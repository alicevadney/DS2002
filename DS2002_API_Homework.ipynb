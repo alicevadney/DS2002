{
  "nbformat": 4,
  "nbformat_minor": 0,
  "metadata": {
    "colab": {
      "provenance": [],
      "authorship_tag": "ABX9TyOo1wXoyG50NSneWh3eZ8M5",
      "include_colab_link": true
    },
    "kernelspec": {
      "name": "python3",
      "display_name": "Python 3"
    },
    "language_info": {
      "name": "python"
    }
  },
  "cells": [
    {
      "cell_type": "markdown",
      "metadata": {
        "id": "view-in-github",
        "colab_type": "text"
      },
      "source": [
        "<a href=\"https://colab.research.google.com/github/alicevadney/DS2002/blob/main/DS2002_API_Homework.ipynb\" target=\"_parent\"><img src=\"https://colab.research.google.com/assets/colab-badge.svg\" alt=\"Open In Colab\"/></a>"
      ]
    },
    {
      "cell_type": "code",
      "execution_count": 32,
      "metadata": {
        "id": "CM7wjT7xVgQG"
      },
      "outputs": [],
      "source": [
        "import requests\n",
        "import pandas as pd\n",
        "import matplotlib.pyplot as plt\n",
        "import json\n"
      ]
    },
    {
      "cell_type": "code",
      "source": [
        "# get stock from the user\n",
        "ticker=input()"
      ],
      "metadata": {
        "colab": {
          "base_uri": "https://localhost:8080/"
        },
        "id": "jq7Usf9j89kJ",
        "outputId": "7645865f-6943-4d8f-a83f-438e5b528dc7"
      },
      "execution_count": 9,
      "outputs": [
        {
          "name": "stdout",
          "output_type": "stream",
          "text": [
            "AAPL\n"
          ]
        }
      ]
    },
    {
      "cell_type": "code",
      "source": [
        "print(\"The Stock we will research is: \" + ticker)"
      ],
      "metadata": {
        "colab": {
          "base_uri": "https://localhost:8080/"
        },
        "id": "43D-7sXY8_sl",
        "outputId": "b10f6571-8ac6-46fe-fc26-c9e53c21d200"
      },
      "execution_count": 10,
      "outputs": [
        {
          "output_type": "stream",
          "name": "stdout",
          "text": [
            "The Stock we will research is:AAPL\n"
          ]
        }
      ]
    },
    {
      "cell_type": "markdown",
      "source": [
        "Quote Module: ticker, name, 52 week high, 52 week low"
      ],
      "metadata": {
        "id": "FAi0fB4aE4t6"
      }
    },
    {
      "cell_type": "code",
      "source": [
        "apikey= \"alHpkKm64O66YjPJqDmZk2GuNLNtC3o43Yco180T\"\n",
        "\n",
        "url = \"https://yfapi.net/\"\n",
        "quote_url = \"https://yfapi.net/v6/finance/quote\"\n",
        "\n",
        "\n",
        "querystring = {\"symbols\":ticker}\n",
        "\n",
        "headers = {\n",
        "    'x-api-key': apikey\n",
        "    }\n",
        "\n",
        "response = requests.request(\"GET\", quote_url, headers=headers, params=querystring)\n",
        "\n",
        "if response.status_code == 200:\n",
        "    # load JSON data from response\n",
        "    stock_json = response.json()\n",
        "\n",
        "    # get name, price, 52 week high, 52 week low\n",
        "    name = str(stock_json['quoteResponse']['result'][0][\"longName\"])\n",
        "    price = str(stock_json['quoteResponse']['result'][0][\"regularMarketPrice\"])\n",
        "    high = str(stock_json['quoteResponse']['result'][0][\"fiftyTwoWeekHigh\"])\n",
        "    low = str(stock_json['quoteResponse']['result'][0][\"fiftyTwoWeekLow\"])\n",
        "\n"
      ],
      "metadata": {
        "colab": {
          "base_uri": "https://localhost:8080/"
        },
        "id": "a8MKS4sA9BgS",
        "outputId": "b0d76d83-a211-4b51-bf8c-737e0184eb83"
      },
      "execution_count": 38,
      "outputs": [
        {
          "output_type": "stream",
          "name": "stdout",
          "text": [
            "Stock data saved to stock_data.csv\n"
          ]
        }
      ]
    },
    {
      "cell_type": "markdown",
      "source": [
        "Quote Summary Module: target mean price"
      ],
      "metadata": {
        "id": "TKIFSZLoFfxe"
      }
    },
    {
      "cell_type": "code",
      "source": [
        "finance_url = f\"https://yfapi.net/ws/insights/v1/finance/insights?symbol={ticker}\"\n",
        "\n",
        "querystring = {\"symbols\": ticker}\n",
        "\n",
        "headers = {\n",
        "    'x-api-key': apikey\n",
        "    }\n",
        "\n",
        "# request stock profile data\n",
        "finance_response = requests.get(finance_url, headers=headers)\n",
        "\n",
        "if finance_response.status_code == 200:\n",
        "    # load JSON data from response\n",
        "    finance_json = finance_response.json()\n",
        "\n",
        "    # get target price\n",
        "    target_price = finance_json['finance']['result']['instrumentInfo']['recommendation']['targetPrice']\n",
        "    print(\"Target Price:\", target_price)\n",
        "\n",
        "    # print stock data\n",
        "    print(f\"{name} (Ticker: {ticker})\")\n",
        "    print(f\"Price: ${price}\")\n",
        "    print(f\"Target Mean Price: ${target_price}\")\n",
        "    print(f\"52-Week High: ${high}\")\n",
        "    print(f\"52-Week Low: ${low}\")\n",
        "\n",
        "    # save stock data to a dataframe and csv\n",
        "    stock_data = {\n",
        "        \"Ticker\": [ticker],\n",
        "        \"Name\": [name],\n",
        "        \"Price\": [price],\n",
        "        \"Target Mean Price\": [target_price],\n",
        "        \"52 Week High\": [high],\n",
        "        \"52 Week Low\": [low]\n",
        "    }\n",
        "\n",
        "    df = pd.DataFrame(stock_data)\n",
        "    df.to_csv('stock_data.csv', index=False)\n",
        "    print(\"Stock data saved to stock_data.csv\")\n",
        "\n",
        "else:\n",
        "    print(f\"Error: Received status code {finance_response.status_code} when fetching stock profile\")\n"
      ],
      "metadata": {
        "colab": {
          "base_uri": "https://localhost:8080/"
        },
        "id": "38J182drDeRC",
        "outputId": "c067bacb-352d-486b-a682-12f5fa546f0a"
      },
      "execution_count": 47,
      "outputs": [
        {
          "output_type": "stream",
          "name": "stdout",
          "text": [
            "Target Price: 250.0\n",
            "Apple Inc. (Ticker: AAPL)\n",
            "Price: $227.725\n",
            "Target Mean Price: $250.0\n",
            "52-Week High: $237.23\n",
            "52-Week Low: $164.08\n",
            "Stock data saved to stock_data.csv\n"
          ]
        }
      ]
    },
    {
      "cell_type": "markdown",
      "source": [
        "Find the trending stocks"
      ],
      "metadata": {
        "id": "n6wdXRR1FbmA"
      }
    },
    {
      "cell_type": "code",
      "source": [
        "trending_url = \"https://yfapi.net/v1/finance/trending/US\"\n",
        "\n",
        "querystring = {\"symbols\": ticker}\n",
        "\n",
        "headers = {\n",
        "    'x-api-key': apikey\n",
        "    }\n",
        "\n",
        "trending_response = requests.get(trending_url, headers=headers)\n",
        "\n",
        "if trending_response.status_code == 200:\n",
        "  # load JSON data from response\n",
        "  trending_json = trending_response.json()\n",
        "\n",
        "  # get the top 5 trending stocks\n",
        "  trending_stocks = trending_json.get(\"finance\", {}).get(\"result\", [])[0].get(\"quotes\", [])\n",
        "  print(\"Top 5 Current Trending Stocks:\")\n",
        "  for i, stock in enumerate(trending_stocks[:5]):\n",
        "    print(f\"{i + 1}. {stock.get('symbol', 'N/A')}\")\n",
        "\n",
        "else:\n",
        "    print(f\"Error: Received status code {trending_response.status_code} when fetching trending stocks\")"
      ],
      "metadata": {
        "colab": {
          "base_uri": "https://localhost:8080/"
        },
        "id": "W7LUyNWvFdyQ",
        "outputId": "6aea0c23-707e-4169-861c-ad97c800e43d"
      },
      "execution_count": 48,
      "outputs": [
        {
          "output_type": "stream",
          "name": "stdout",
          "text": [
            "Top 5 Current Trending Stocks:\n",
            "1. AMSC\n",
            "2. PWR\n",
            "3. VRT\n",
            "4. BBD\n",
            "5. SNAP\n"
          ]
        }
      ]
    },
    {
      "cell_type": "code",
      "source": [],
      "metadata": {
        "id": "Fk3daMS5WNqx"
      },
      "execution_count": null,
      "outputs": []
    }
  ]
}