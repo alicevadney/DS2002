{
  "nbformat": 4,
  "nbformat_minor": 0,
  "metadata": {
    "colab": {
      "provenance": [],
      "authorship_tag": "ABX9TyNaMHvp8Ztm469+nIbCVkwv",
      "include_colab_link": true
    },
    "kernelspec": {
      "name": "python3",
      "display_name": "Python 3"
    },
    "language_info": {
      "name": "python"
    }
  },
  "cells": [
    {
      "cell_type": "markdown",
      "metadata": {
        "id": "view-in-github",
        "colab_type": "text"
      },
      "source": [
        "<a href=\"https://colab.research.google.com/github/alicevadney/DS2002/blob/main/API_Lab.ipynb\" target=\"_parent\"><img src=\"https://colab.research.google.com/assets/colab-badge.svg\" alt=\"Open In Colab\"/></a>"
      ]
    },
    {
      "cell_type": "code",
      "execution_count": 38,
      "metadata": {
        "id": "I7Wd8vZ3Lrff"
      },
      "outputs": [],
      "source": [
        "import json\n",
        "import pandas as pd\n",
        "import json\n",
        "import requests"
      ]
    },
    {
      "cell_type": "code",
      "source": [
        "#get stock from the user\n",
        "stock=input(\"Enter stock symbols separated by commas: \")"
      ],
      "metadata": {
        "colab": {
          "base_uri": "https://localhost:8080/"
        },
        "id": "Bm1JElLCLvFU",
        "outputId": "2c650137-09d4-4a66-aa8b-687813eb4560"
      },
      "execution_count": 62,
      "outputs": [
        {
          "name": "stdout",
          "output_type": "stream",
          "text": [
            "Enter stock symbols separated by commas: AAPL, GOOG\n"
          ]
        }
      ]
    },
    {
      "cell_type": "code",
      "source": [
        "stock_list = stock.split(',')\n",
        "stock_list = [stock.strip() for stock in stock_list]\n",
        "\n",
        "print(\"The Stocks we will research are: \" + stock)"
      ],
      "metadata": {
        "colab": {
          "base_uri": "https://localhost:8080/"
        },
        "id": "xqFqYjGgLwt_",
        "outputId": "2bdb42c0-c23e-46eb-9321-efa24208500e"
      },
      "execution_count": 63,
      "outputs": [
        {
          "output_type": "stream",
          "name": "stdout",
          "text": [
            "The Stocks we will research are: AAPL, GOOG\n"
          ]
        }
      ]
    },
    {
      "cell_type": "code",
      "source": [
        "apikey=\"key_redacted\"\n",
        "\n",
        "url = \"https://yfapi.net/v6/finance/quote\"\n",
        "\n",
        "def get_stock_data(stock):\n",
        "  querystring = {\"symbols\":stock}\n",
        "\n",
        "  headers = {\n",
        "      'x-api-key': apikey\n",
        "      }\n",
        "\n",
        "  response = requests.request(\"GET\", url, headers=headers, params=querystring)\n",
        "  stock_json = response.json()\n",
        "\n",
        "  # Check if there is a result for the stock\n",
        "  if len(stock_json['quoteResponse']['result']) > 0:\n",
        "    result = stock_json['quoteResponse']['result'][0]\n",
        "    # Print the company name and price\n",
        "    print(f\"{result['longName']} ({stock}) - Price: ${result['regularMarketPrice']}\")\n",
        "  else:\n",
        "     print(f\"No data found for {stock}.\")\n"
      ],
      "metadata": {
        "id": "8sE79x0oLyi8"
      },
      "execution_count": 64,
      "outputs": []
    },
    {
      "cell_type": "code",
      "source": [
        "  for stock in stock_list:\n",
        "    get_stock_data(stock)"
      ],
      "metadata": {
        "colab": {
          "base_uri": "https://localhost:8080/"
        },
        "id": "ZmFKA66TL1CC",
        "outputId": "76d27402-d042-4c42-e2d5-63993fef370c"
      },
      "execution_count": 65,
      "outputs": [
        {
          "output_type": "stream",
          "name": "stdout",
          "text": [
            "Apple Inc. (AAPL) - Price: $226.9175\n",
            "Alphabet Inc. (GOOG) - Price: $163.55\n"
          ]
        }
      ]
    }
  ]
}